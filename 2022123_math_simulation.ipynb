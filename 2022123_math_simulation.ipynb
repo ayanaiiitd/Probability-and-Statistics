{
 "cells": [
  {
   "cell_type": "code",
   "execution_count": null,
   "metadata": {},
   "outputs": [],
   "source": [
    "# Getting Python ready\n",
    "from scipy.stats import norm\n",
    "import matplotlib.pyplot as plt\n",
    "import numpy as np\n",
    "import math\n",
    "import textwrap\n",
    "import ipynb.fs.defs.Bernoulli as bern\n",
    "import ipynb.fs.defs.Binomial as binom\n",
    "#%matplotlib widget"
   ]
  },
  {
   "cell_type": "code",
   "execution_count": null,
   "metadata": {},
   "outputs": [],
   "source": [
    "def aBernoulliExperiment(randomNumGen, bernoulliParam_p=0.2, numRepeatsOfExp = 1, numTrialsInAnExp = 20, profitLoss=[1,0]):\n",
    "    \n",
    "    repeatIndex = 0\n",
    "    observation = np.ones((numRepeatsOfExp, numTrialsInAnExp))\n",
    "    #print(observation)\n",
    "\n",
    "    observation = randomNumGen.random((numRepeatsOfExp, numTrialsInAnExp))\n",
    "\n",
    "    index_ge1 = np.less_equal(observation, bernoulliParam_p)\n",
    "    \n",
    "    observation[index_ge1] = profitLoss[0]\n",
    "    observation[np.invert(index_ge1)] = profitLoss[1]\n",
    "\n",
    "    return observation"
   ]
  },
  {
   "attachments": {},
   "cell_type": "markdown",
   "metadata": {},
   "source": [
    "Q1 part(a)"
   ]
  },
  {
   "cell_type": "code",
   "execution_count": null,
   "metadata": {},
   "outputs": [],
   "source": [
    "v_numTrialsInAnExp = 20\n",
    "v_numRepeatsOfExp = 1\n",
    "v_bernoulliParam_p = 0.2\n",
    "observation = aBernoulliExperiment(np.random.default_rng(1236), bernoulliParam_p=v_bernoulliParam_p, numRepeatsOfExp = v_numRepeatsOfExp, numTrialsInAnExp = v_numTrialsInAnExp, profitLoss=[1,0])\n",
    "\n",
    "print(observation)\n"
   ]
  },
  {
   "cell_type": "code",
   "execution_count": null,
   "metadata": {},
   "outputs": [],
   "source": [
    "v_numTrialsInAnExp = 20\n",
    "v_numRepeatsOfExp = 1\n",
    "v_bernoulliParam_p = 0.2\n",
    "observation = aBernoulliExperiment(np.random.default_rng(1236), bernoulliParam_p=v_bernoulliParam_p, numRepeatsOfExp = v_numRepeatsOfExp, numTrialsInAnExp = v_numTrialsInAnExp, profitLoss=[1,0])\n",
    "\n",
    "listx=[i for i in range(1,21)]\n",
    "plt.plot(listx,observation[0])\n",
    "plt.scatter(listx,observation[0])\n",
    "plt.xlabel(\"Trial number\")\n",
    "plt.ylabel(\"outcome\")\n",
    "plt.title(\"Bernoulli coin toss\")\n",
    "plt.xticks(listx)\n",
    "plt.yticks([0,1])\n",
    "plt.margins(0.02)\n",
    "plt.show()"
   ]
  },
  {
   "attachments": {},
   "cell_type": "markdown",
   "metadata": {},
   "source": [
    "EXPLANATION Q1 part(a)\n",
    "A coin is tossed 20 times which corresponds to 20 bernoulli trials. One toss corresponds to one trials and the plot shows the output of each Bernoulli trial which is either zero or one.\n",
    "In the plot it could be observed that the probability of success(i.e. outcome is 1) is 3/20 which is almost equal to the parameter p(0.2) of Bernoulli."
   ]
  },
  {
   "attachments": {},
   "cell_type": "markdown",
   "metadata": {},
   "source": [
    "Q1 (b) part"
   ]
  },
  {
   "cell_type": "code",
   "execution_count": null,
   "metadata": {},
   "outputs": [],
   "source": [
    "v_numTrialsInAnExp = 20\n",
    "v_numRepeatsOfExp = 5\n",
    "v_bernoulliParam_p = 0.2\n",
    "observation = aBernoulliExperiment(np.random.default_rng(1236), bernoulliParam_p=v_bernoulliParam_p, numRepeatsOfExp = v_numRepeatsOfExp, numTrialsInAnExp = v_numTrialsInAnExp, profitLoss=[1,0])\n",
    "\n",
    "print(observation)\n"
   ]
  },
  {
   "cell_type": "code",
   "execution_count": null,
   "metadata": {},
   "outputs": [],
   "source": [
    "v_numTrialsInAnExp = 20\n",
    "v_numRepeatsOfExp = 5\n",
    "v_bernoulliParam_p = 0.2\n",
    "observation = aBernoulliExperiment(np.random.default_rng(1236), bernoulliParam_p=v_bernoulliParam_p, numRepeatsOfExp = v_numRepeatsOfExp, numTrialsInAnExp = v_numTrialsInAnExp, profitLoss=[1,0])\n",
    "\n",
    "listx=[i for i in range(1,21)]\n",
    "for j in range(0,5):\n",
    "    plt.plot(listx,observation[j])\n",
    "    plt.scatter(listx,observation[j])\n",
    "plt.xlabel(\"Trial number\")\n",
    "plt.ylabel(\"outcome\")\n",
    "plt.title(\"Bernoulli coin toss\")\n",
    "plt.xticks(listx)\n",
    "plt.yticks([0,1])\n",
    "plt.margins(0.02)\n",
    "plt.show()"
   ]
  },
  {
   "attachments": {},
   "cell_type": "markdown",
   "metadata": {},
   "source": [
    "EXPLANATION Q1 part(b)\n",
    "In this part 20 bernoulli trials are performed 5 times with parameter of Bernoulli p=0.2. As observation we get 5 different sequences with 20 outcomes in each. Success(i.e. outcome as 1) probabilities as [0.15,0.25,0.1,0.1,0.2] which are almost equal to the parameter of Bernoulli trial p=0.2."
   ]
  },
  {
   "attachments": {},
   "cell_type": "markdown",
   "metadata": {},
   "source": [
    "Q1 part(c)"
   ]
  },
  {
   "cell_type": "code",
   "execution_count": null,
   "metadata": {},
   "outputs": [],
   "source": [
    "v_numTrialsInAnExp = 20\n",
    "v_numRepeatsOfExp = 100\n",
    "v_bernoulliParam_p = 0.2\n",
    "observation = aBernoulliExperiment(np.random.default_rng(1236), bernoulliParam_p=v_bernoulliParam_p, numRepeatsOfExp = v_numRepeatsOfExp, numTrialsInAnExp = v_numTrialsInAnExp, profitLoss=[1,0])\n",
    "\n",
    "print(observation)\n"
   ]
  },
  {
   "cell_type": "code",
   "execution_count": null,
   "metadata": {},
   "outputs": [],
   "source": [
    "v_numTrialsInAnExp = 20\n",
    "v_numRepeatsOfExp = 100\n",
    "v_bernoulliParam_p = 0.2\n",
    "observation = aBernoulliExperiment(np.random.default_rng(1236), bernoulliParam_p=v_bernoulliParam_p, numRepeatsOfExp = v_numRepeatsOfExp, numTrialsInAnExp = v_numTrialsInAnExp, profitLoss=[1,0])\n",
    "\n",
    "listx=[i for i in range(1,101)]\n",
    "l2=[]\n",
    "for j in range(0,100):\n",
    "    count=0\n",
    "    for k in range(0,20):\n",
    "        if observation[j][k]==1:\n",
    "            count+=1\n",
    "    l2.append(count)\n",
    "print(l2)\n",
    "a=np.array(l2)\n",
    "fig, axs = plt.subplots(1,1,figsize =(30, 10))\n",
    "axs.bar(listx,a,width=1,color=\"indigo\")\n",
    "plt.xlabel(\"Sequence number\")\n",
    "plt.ylabel(\"frequency of one\")\n",
    "plt.title(\"Bernoulli coin toss\")\n",
    "plt.xticks(listx)\n",
    "plt.yticks(l2)\n",
    "# plt.margins(0.000002)\n",
    "plt.show()"
   ]
  },
  {
   "attachments": {},
   "cell_type": "markdown",
   "metadata": {},
   "source": [
    "EXPLANATION part(c)\n",
    "In this part 20 Bernoulli trials are performed 100 times.Let X(20,0.2) be the Binomial random variable which counts the number of sucess(ones) in each sequence(i.e. 20 Bernoulli trials). So the graph plots frequency of ones(on y axis) corresponding to each sequence (on x axis).\n",
    "PMF being approximated as Binomial(20,0.2)."
   ]
  },
  {
   "attachments": {},
   "cell_type": "markdown",
   "metadata": {},
   "source": [
    "Q1 part(d)"
   ]
  },
  {
   "cell_type": "code",
   "execution_count": null,
   "metadata": {},
   "outputs": [],
   "source": [
    "v_numTrialsInAnExp = 20\n",
    "v_numRepeatsOfExp = 100\n",
    "v_bernoulliParam_p = 0.2\n",
    "observation = aBernoulliExperiment(np.random.default_rng(1236), bernoulliParam_p=v_bernoulliParam_p, numRepeatsOfExp = v_numRepeatsOfExp, numTrialsInAnExp = v_numTrialsInAnExp, profitLoss=[1,0])\n",
    "\n",
    "print(observation)"
   ]
  },
  {
   "cell_type": "code",
   "execution_count": null,
   "metadata": {},
   "outputs": [],
   "source": [
    "v_numTrialsInAnExp = 20\n",
    "v_numRepeatsOfExp = 100\n",
    "v_bernoulliParam_p = 0.2\n",
    "observation = aBernoulliExperiment(np.random.default_rng(1236), bernoulliParam_p=v_bernoulliParam_p, numRepeatsOfExp = v_numRepeatsOfExp, numTrialsInAnExp = v_numTrialsInAnExp, profitLoss=[1,0])\n",
    "\n",
    "listx=[i for i in range(1,101)]\n",
    "l2=[]\n",
    "l3=[]\n",
    "for j in range(0,100):\n",
    "    count=0\n",
    "    for k in range(0,20):\n",
    "        if observation[j][k]==1:\n",
    "            count+=1\n",
    "    if count>=3:\n",
    "        l3.append(j+1)\n",
    "        l2.append(count)\n",
    "print(l2)\n",
    "a=np.array(l2)\n",
    "fig, axs = plt.subplots(1,1,figsize =(30, 10))\n",
    "axs.bar(l3,a,width=1)\n",
    "plt.xlabel(\"Sequence number\")\n",
    "plt.ylabel(\"frequency of one\")\n",
    "plt.title(\"Bernoulli coin toss\")\n",
    "plt.xticks(l3)\n",
    "plt.yticks(l2)\n",
    "# plt.margins(0.000002)\n",
    "plt.show()"
   ]
  },
  {
   "attachments": {},
   "cell_type": "markdown",
   "metadata": {},
   "source": [
    "EXPLANATION part(d)\n",
    "We are doing the same experiment as in part (c) of Q1 the difference is just that the binomial random variable X(20,0.5) is plotted for the sequences in which number of successes is atleast 3.\n",
    "PMF being approxiamted as Binomial(20,0.2) for k>=3 and 0 otherwise ,where k is no. of successes."
   ]
  },
  {
   "attachments": {},
   "cell_type": "markdown",
   "metadata": {},
   "source": [
    "*_*_*_*_*_*_*_*_*_*_*_*_*_*_*_*_*_*_*_*_*_*_*_*_*_*_*_*_*_*_*_*_*_*_*_*_*_*_*_*_*_*_*_*_*_*_*_*_*_*_*_*_*_*_*_*_*_*_*_*_*_*_*_*_*_*_*_*_*_*_*_*_*_*_*_*_*_*_*_*_*_*_*_*_*_*_*_*_*_*_*_*_*_*_*_*_*_*_*_*_*_*_*_*_*_*_*_*_*_*_*_*_*_*_*_*_*_*_*_*_*_*_*_*_*_*_*_*_*_*_*_*_*_*_*_*_*_*_*_*_*_*_*_*_*_*_*_*_*_*_*_*_*_*_*_*_*_*_*_*_*_*_*_*_*_*_*_*_*_*_*_*_*_*_*_*_*_*_*_*_*_*_*_*_*_*_*_*_*_*_*_*_*_*_*_*_*_*_*_*_*_*_*_*_*_*_*_*_*_*_*_*_*_*_*_*_*_*_*_*_*_*_*_*_*_*_*_*_*_*_*_*_*_*_*_*_*_*"
   ]
  },
  {
   "attachments": {},
   "cell_type": "markdown",
   "metadata": {},
   "source": [
    "                                                        Question 2\n",
    "\n",
    "Pick four values of $\\alpha$ uniformly and randomly from the interval $(0, 100)$. For each $\\alpha$, simulate a Binomial $(n,p)$, with $n$ chosen for the $\\alpha$ to be as small as possible while providing a reasonable approximation (the PMFs/ histograms look visually similar) of the Poisson $(\\alpha)$. Note that you must also simulate the Poisson RVs. Choose the number of experiements for all the RVs to be large enough to ensure that the resulting histograms are good approximations of the PMFs."
   ]
  },
  {
   "cell_type": "code",
   "execution_count": null,
   "metadata": {},
   "outputs": [],
   "source": [
    "import ipynb.fs.defs.Bernoulli as bern\n",
    "def aBinomialExperiment(randomNumGen, binomialParam_n=5, binomialParam_p=0.5, numberOfBinomialExperiments = 1, profitLoss_Bern = [1,0]):\n",
    "    \n",
    "    outcomesOfBernTrails = bern.aBernoulliExperiment(randomNumGen, bernoulliParam_p=binomialParam_p, numRepeatsOfExp = numberOfBinomialExperiments, numTrialsInAnExp = binomialParam_n, profitLoss = profitLoss_Bern)\n",
    "\n",
    "    #print(outcomesOfBernTrails, outcomesOfBernTrails.shape)\n",
    "\n",
    "    outcomeOfBinomialExp = np.sum(outcomesOfBernTrails, axis = 1)#.reshape((numberOfBinomialExperiments,1)) #get a column vector\n",
    "\n",
    "    #print(outcomeOfBinomialExp, outcomeOfBinomialExp.shape)\n",
    "\n",
    "    return outcomeOfBinomialExp"
   ]
  },
  {
   "cell_type": "code",
   "execution_count": null,
   "metadata": {},
   "outputs": [],
   "source": [
    "v_binomial_n = 5\n",
    "v_binomial_p = 0.5\n",
    "numberOfBinomialExps = 1\n",
    "\n",
    "outcomeOfBinomialExp = aBinomialExperiment(np.random.default_rng(78918), v_binomial_n, v_binomial_p, numberOfBinomialExperiments = numberOfBinomialExps, profitLoss_Bern=[1,0])#, [-10,10])\n",
    "\n",
    "print(outcomeOfBinomialExp)"
   ]
  },
  {
   "cell_type": "code",
   "execution_count": null,
   "metadata": {},
   "outputs": [],
   "source": [
    "rng = np.random.default_rng(8946729)\n",
    "\n",
    "numberOfExperiments = 15000\n",
    "\n",
    "l=[]\n",
    "\n",
    "import random\n",
    "for i in range(0,4):\n",
    "    alpha = round(random.uniform(0,100),2)\n",
    "    l.append(alpha)\n",
    "n=2000\n",
    "alpha1=[]\n",
    "alpha1.append(l)\n",
    "print(alpha1)\n",
    "print(\"The Binomial Probabilities are\", p)\n",
    "print(\"The num of trials are\", n)\n",
    "print(\"The product is\", n * p)\n",
    "\n",
    "outcomesOfPoissonExperiments = np.ndarray((np.shape(alpha1)[1],numberOfExperiments))\n",
    "\n",
    "alphaArray = np.ones((np.shape(alpha1)[1],numberOfExperiments))\n",
    "\n",
    "# print(\"The shapes are \", alphaArray.shape, outcomesOfPoissonExperiments.shape)\n",
    "\n",
    "alphaArray = alphaArray * np.transpose(alpha1)\n",
    "\n",
    "# print(alphaArray)\n",
    "\n",
    "outcomesOfPoissonExperiments = np.random.poisson(lam = alphaArray, size=np.shape(outcomesOfPoissonExperiments))\n",
    "\n",
    "print(\"The outcomes of experiments are \", outcomesOfPoissonExperiments.shape, outcomesOfPoissonExperiments)\n",
    "\n",
    "listOfBinomialExps = []\n",
    "listOfPoissonExps=[]\n",
    "for j in range(4):\n",
    "    p=l[j]/n\n",
    "    outcomeOfBinomialExps = np.ndarray((numberOfExperiments,1))\n",
    "    # outcomesOfPoissonExperiments = np.ndarray((1,numberOfExperiments))\n",
    "    outcomeOfBinomialExps = binom.aBinomialExperiment(rng, binomialParam_n = n, binomialParam_p = p, profitLoss_Bern = [1,0], numberOfBinomialExperiments = numberOfExperiments)\n",
    "    \n",
    "    # outcomesOfPoissonExperiments = np.random.poisson(lam = l[j], size=(1,numberOfExperiments))\n",
    "    # for i in range(numberOfBinomialExps):\n",
    "    #     outcomeOfBinomialExps[i,:] = aBinomialExperiment(rng, v_binomial_n[j], v_binomial_p, [1,0])\n",
    "\n",
    "    # print(\"The outcomes are\", outcomeOfBinomialExps)\n",
    "    listOfBinomialExps.append(outcomeOfBinomialExps)\n",
    "\n",
    "print(outcomesOfPoissonExperiments)\n",
    "\n"
   ]
  },
  {
   "cell_type": "code",
   "execution_count": null,
   "metadata": {},
   "outputs": [],
   "source": [
    "fig, ax = plt.subplots(nrows=4, ncols=2, sharex=False, figsize=(15,10))\n",
    "\n",
    "#plt.subplots_adjust(bottom=0.1, right=0.8, top=0.9)\n",
    "\n",
    "plt.tight_layout(pad = 3.0, w_pad=10.0,h_pad=5.0)\n",
    "\n",
    "# fig.set_label(\"No of Trials of Bern Exp is \" + str(v_numTrialsInAnExp))\n",
    "obsIdx = 0\n",
    "#widthArr = [0.05, 0.05, 0.35, 0.35]\n",
    "widthArr = [0.7, .7, .7, .7]\n",
    "#for rowidx in range(int(np.ceil(v_numRepeats/2))):\n",
    "for rowidx in range(4):\n",
    "    for colidx in range(2):\n",
    "        colidx=0\n",
    "        print(\"times loop execute\")\n",
    "        print(\"colidx times after\",colidx)\n",
    "        # histVal = np.histogram(listOfPoissonExps[obsIdx][0], bins=range(0,int(np.max(listOfPoissonExps[obsIdx]))+2), density=False)\n",
    "        histVal = np.histogram(outcomesOfPoissonExperiments[obsIdx], bins=range(0,int(np.max(outcomesOfPoissonExperiments[obsIdx]))+2), density=False)\n",
    "        ax[rowidx][colidx].bar(histVal[1][0:-1], histVal[0]/numberOfExperiments, width = widthArr[obsIdx])\n",
    "        ax[rowidx][colidx].set_xlabel(\"Poisson Experiment Outcome (Number of arrivals)\")\n",
    "        ax[rowidx][colidx].set_title(\"alpha = \" + str(l[obsIdx]))\n",
    "    \n",
    "        colidx+=1\n",
    "        # histVal = np.histogram(listOfBinomialExps[obsIdx - 1], bins=range(0,n[obsIdx - 1]+2), density=False)\n",
    "        histVal = np.histogram(listOfBinomialExps[obsIdx], bins=range(0,int(np.max(listOfBinomialExps[obsIdx]))+2), density=False)\n",
    "        print(\"rowidx before \",rowidx,\"colidx is \",colidx)\n",
    "        ax[rowidx][colidx].set_xlabel(\"Binomial Outcome (Number of arrivals/occurances in \" + str(n) + \" trials)\")\n",
    "\n",
    "        print(\"The histogram[1] values are:\", histVal[1])\n",
    "        print(\"The histogram[0] values are:\", histVal[0])\n",
    "\n",
    "        ax[rowidx][colidx].bar(histVal[1][0:-1], histVal[0]/numberOfExperiments, width = widthArr[obsIdx],color=\"purple\")\n",
    "        ax[rowidx][colidx].set_xscale(\"linear\")\n",
    "        # ax[rowidx][colidx].set_xlabel(\"Poisson Experiment Outcome (Number of arrivals in the interval lam)\")\n",
    "        ax[rowidx][colidx].set_ylabel(textwrap.fill(\"Frequency of Outcomes\", 100))\n",
    "        colidx+=1\n",
    "        print(\"colidx \",colidx)\n",
    "    obsIdx = obsIdx + 1"
   ]
  },
  {
   "attachments": {},
   "cell_type": "markdown",
   "metadata": {},
   "source": [
    "*_*_*_*_*_*_*_*_*_*_*_*_*_*_*_*_*_*_*_*_*_*_*_*_*_*_*_*_*_*_*_*_*_*_*_*_*_*_*_*_*_*_*_*_*_*_*_*_*_*_*_*_*_*_*_*_*_*_*_*_*_*_*_*_*_*_*_*_*_*_*_*_*_*_*_*_*_*_*_*_*_*_*_*_*_*_*_*_*_*_*_*_*_*_*_*_*_*_*_*_*_*_*_*_*_*_*_*_*_*_*_*_*_*_*_*_*_*_*_*_*_*_*_*_*_*_*_*_*_*_*_*_*_*_*_*_*_*_*_*_*_*_*_*_*_*_*_*_*_*_*_*_*_*_*_*_*_*_*_*_*_*_*_*_*_*_*_*_*_*_*_*_*_*_*_*_*_*_*_*_*_*_*_*_*_*_*_*_*_*_*_*_*_*_*_*_*_*_*_*_*_*_*_*_*_*_*_*_*_*_*_*_*_*_*_*_*_*_*_*_*_*_*_*_*_*_*_*_*_*_*_*_*_*_*_*_*_*"
   ]
  },
  {
   "attachments": {},
   "cell_type": "markdown",
   "metadata": {},
   "source": [
    "\n",
    "                                                        Question 3\n",
    "\n",
    "Illustrate the law of large numbers and the central limit theorem for a sum of iid Poisson RVs. Note that the provided code (Binomial.ipynb) does the same for a sum of Bernoulli $(p)$ RVs.\n",
    "\n",
    "Do the above for two values of $\\alpha$ chosen uniformly and randomly from $(1, 20)$. For each value of $\\alpha$ demonstrate the above over an increasing, four long, sequence of number of RVs being added. For example, in the provided code, we simulated $5,10,100,1000$ Bernoulli RVs being summed. Note that you may need a sequence different from the example. Figure out a sequence that shows convergence to a bell shaped curve (central limit theorem) and clustering of the histogram around the mean (law of large numbers)."
   ]
  },
  {
   "cell_type": "code",
   "execution_count": null,
   "metadata": {},
   "outputs": [],
   "source": [
    "# Getting Python ready\n",
    "from scipy.stats import norm\n",
    "from scipy.special import comb\n",
    "import matplotlib.pyplot as plt\n",
    "import numpy as np\n",
    "#from ipynb.fs.full.Bernoulli import aBernoulliExperiment\n",
    "import math\n",
    "import textwrap\n",
    "import ipynb.fs.defs.Bernoulli as bern\n",
    "import ipynb.fs.defs.Binomial as binom"
   ]
  },
  {
   "cell_type": "code",
   "execution_count": null,
   "metadata": {},
   "outputs": [],
   "source": [
    "import random\n",
    "rng = np.random.default_rng(7381638)\n",
    "\n",
    "np.random.default_rng(8946729)\n",
    "number_of_trials=100000\n",
    "numberOfExperiments = [5,100,250]\n",
    "alpha1=[]\n",
    "for i in range(2):\n",
    "    l=round(random.uniform(1,20),2)\n",
    "    alpha1.append(l)\n",
    "alpha=[]\n",
    "alpha.append(alpha1)\n",
    "listOfPoissonExps=[]\n",
    "listOfPoissonExps1=[]\n",
    "for i in range(0,2):\n",
    "    for k in range(0,3):\n",
    "        listOfPoissonExps1=[]\n",
    "        for j in range(0,numberOfExperiments[k]):\n",
    "            outcomesOfPoissonExperiments = np.ndarray((1,number_of_trials))\n",
    "\n",
    "            alphaArray = np.ones((1,number_of_trials))\n",
    "\n",
    "            # print(\"The shapes are \", alphaArray.shape, outcomesOfPoissonExperiments.shape)\n",
    "\n",
    "            alphaArray = alphaArray * np.transpose(alpha1[i])\n",
    "\n",
    "            # print(alphaArray)\n",
    "\n",
    "            outcomesOfPoissonExperiments = np.random.poisson(lam = alphaArray, size=np.shape(outcomesOfPoissonExperiments))\n",
    "\n",
    "            # print(\"The outcomes of experiments are \", outcomesOfPoissonExperiments.shape, outcomesOfPoissonExperiments)\n",
    "            listOfPoissonExps1.append(outcomesOfPoissonExperiments)\n",
    "        # print(listOfPoissonExps1)\n",
    "        listOfPoissonExps.append(sum(listOfPoissonExps1))\n"
   ]
  },
  {
   "cell_type": "code",
   "execution_count": null,
   "metadata": {},
   "outputs": [],
   "source": [
    "fig, ax = plt.subplots(nrows=2, ncols=3, sharex=False, figsize=(50,20))\n",
    "\n",
    "#plt.subplots_adjust(bottom=0.1, right=0.8, top=0.9)\n",
    "\n",
    "plt.tight_layout(pad = 5.0, w_pad=10.0,h_pad=15.0)\n",
    "\n",
    "# fig.set_label(\"No of Trials of Bern Exp is \" + str(v_numTrialsInAnExp))\n",
    "obsIdx=0\n",
    "widthArr = [0.2, 0.2, 0.2]\n",
    "for rowidx in range(2):\n",
    "    for colidx in range(3):\n",
    "        histVal = np.histogram(listOfPoissonExps[obsIdx][0], bins=range(0,int(np.max(listOfPoissonExps[obsIdx]))+2), density=False)\n",
    "        # print(listOfPoissonExps[obsIdx][0])\n",
    "        # print(\"The histogram[1] values are:\", histVal[1])\n",
    "        # print(\"The histogram[0] values are:\", histVal[0])\n",
    "\n",
    "        ax[rowidx][colidx].bar(histVal[1][0:-1], histVal[0]/numberOfExperiments[colidx], width = widthArr[colidx])\n",
    "        ax[rowidx][colidx].set_xscale(\"linear\")\n",
    "        ax[rowidx][colidx].set_xlabel(textwrap.fill(\"Sum of Poisson\",100),fontsize=25)\n",
    "        ax[rowidx][colidx].set_ylabel(textwrap.fill(\"Probability Density\", 100),fontsize=25)\n",
    "        ax[rowidx][colidx].set_title(\"alpha = \" +str(alpha[0][rowidx])+\"\\n\"+\"No of Exps = \"+str(numberOfExperiments[colidx]),fontsize=25)\n",
    "        fontsize = 20\n",
    "        for tick in ax[rowidx][colidx].xaxis.get_major_ticks():\n",
    "            tick.label1.set_fontsize(fontsize)\n",
    "\n",
    "        for tick in ax[rowidx][colidx].yaxis.get_major_ticks():\n",
    "            tick.label1.set_fontsize(fontsize)\n",
    "\n",
    "        obsIdx = obsIdx + 1\n",
    "\n",
    "# plt.subplot_tool()\n",
    "# plt.show(block=True)"
   ]
  }
 ],
 "metadata": {
  "kernelspec": {
   "display_name": "base",
   "language": "python",
   "name": "python3"
  },
  "language_info": {
   "codemirror_mode": {
    "name": "ipython",
    "version": 3
   },
   "file_extension": ".py",
   "mimetype": "text/x-python",
   "name": "python",
   "nbconvert_exporter": "python",
   "pygments_lexer": "ipython3",
   "version": "3.11.0"
  },
  "orig_nbformat": 4
 },
 "nbformat": 4,
 "nbformat_minor": 2
}
